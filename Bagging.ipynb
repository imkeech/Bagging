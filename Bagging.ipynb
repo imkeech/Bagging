{
 "cells": [
  {
   "cell_type": "code",
   "execution_count": 1,
   "id": "869a80e5",
   "metadata": {},
   "outputs": [],
   "source": [
    "import numpy as np \n",
    "import pandas as pd \n",
    "import matplotlib.pyplot as plt"
   ]
  },
  {
   "cell_type": "code",
   "execution_count": 2,
   "id": "3feadc6a",
   "metadata": {},
   "outputs": [
    {
     "data": {
      "text/html": [
       "<div>\n",
       "<style scoped>\n",
       "    .dataframe tbody tr th:only-of-type {\n",
       "        vertical-align: middle;\n",
       "    }\n",
       "\n",
       "    .dataframe tbody tr th {\n",
       "        vertical-align: top;\n",
       "    }\n",
       "\n",
       "    .dataframe thead th {\n",
       "        text-align: right;\n",
       "    }\n",
       "</style>\n",
       "<table border=\"1\" class=\"dataframe\">\n",
       "  <thead>\n",
       "    <tr style=\"text-align: right;\">\n",
       "      <th></th>\n",
       "      <th>Pregnancies</th>\n",
       "      <th>Glucose</th>\n",
       "      <th>BloodPressure</th>\n",
       "      <th>SkinThickness</th>\n",
       "      <th>Insulin</th>\n",
       "      <th>BMI</th>\n",
       "      <th>DiabetesPedigreeFunction</th>\n",
       "      <th>Age</th>\n",
       "      <th>Outcome</th>\n",
       "    </tr>\n",
       "  </thead>\n",
       "  <tbody>\n",
       "    <tr>\n",
       "      <th>0</th>\n",
       "      <td>6</td>\n",
       "      <td>148</td>\n",
       "      <td>72</td>\n",
       "      <td>35</td>\n",
       "      <td>0</td>\n",
       "      <td>33.6</td>\n",
       "      <td>0.627</td>\n",
       "      <td>50</td>\n",
       "      <td>1</td>\n",
       "    </tr>\n",
       "    <tr>\n",
       "      <th>1</th>\n",
       "      <td>1</td>\n",
       "      <td>85</td>\n",
       "      <td>66</td>\n",
       "      <td>29</td>\n",
       "      <td>0</td>\n",
       "      <td>26.6</td>\n",
       "      <td>0.351</td>\n",
       "      <td>31</td>\n",
       "      <td>0</td>\n",
       "    </tr>\n",
       "    <tr>\n",
       "      <th>2</th>\n",
       "      <td>8</td>\n",
       "      <td>183</td>\n",
       "      <td>64</td>\n",
       "      <td>0</td>\n",
       "      <td>0</td>\n",
       "      <td>23.3</td>\n",
       "      <td>0.672</td>\n",
       "      <td>32</td>\n",
       "      <td>1</td>\n",
       "    </tr>\n",
       "    <tr>\n",
       "      <th>3</th>\n",
       "      <td>1</td>\n",
       "      <td>89</td>\n",
       "      <td>66</td>\n",
       "      <td>23</td>\n",
       "      <td>94</td>\n",
       "      <td>28.1</td>\n",
       "      <td>0.167</td>\n",
       "      <td>21</td>\n",
       "      <td>0</td>\n",
       "    </tr>\n",
       "    <tr>\n",
       "      <th>4</th>\n",
       "      <td>0</td>\n",
       "      <td>137</td>\n",
       "      <td>40</td>\n",
       "      <td>35</td>\n",
       "      <td>168</td>\n",
       "      <td>43.1</td>\n",
       "      <td>2.288</td>\n",
       "      <td>33</td>\n",
       "      <td>1</td>\n",
       "    </tr>\n",
       "    <tr>\n",
       "      <th>5</th>\n",
       "      <td>5</td>\n",
       "      <td>116</td>\n",
       "      <td>74</td>\n",
       "      <td>0</td>\n",
       "      <td>0</td>\n",
       "      <td>25.6</td>\n",
       "      <td>0.201</td>\n",
       "      <td>30</td>\n",
       "      <td>0</td>\n",
       "    </tr>\n",
       "    <tr>\n",
       "      <th>6</th>\n",
       "      <td>3</td>\n",
       "      <td>78</td>\n",
       "      <td>50</td>\n",
       "      <td>32</td>\n",
       "      <td>88</td>\n",
       "      <td>31.0</td>\n",
       "      <td>0.248</td>\n",
       "      <td>26</td>\n",
       "      <td>1</td>\n",
       "    </tr>\n",
       "    <tr>\n",
       "      <th>7</th>\n",
       "      <td>10</td>\n",
       "      <td>115</td>\n",
       "      <td>0</td>\n",
       "      <td>0</td>\n",
       "      <td>0</td>\n",
       "      <td>35.3</td>\n",
       "      <td>0.134</td>\n",
       "      <td>29</td>\n",
       "      <td>0</td>\n",
       "    </tr>\n",
       "    <tr>\n",
       "      <th>8</th>\n",
       "      <td>2</td>\n",
       "      <td>197</td>\n",
       "      <td>70</td>\n",
       "      <td>45</td>\n",
       "      <td>543</td>\n",
       "      <td>30.5</td>\n",
       "      <td>0.158</td>\n",
       "      <td>53</td>\n",
       "      <td>1</td>\n",
       "    </tr>\n",
       "  </tbody>\n",
       "</table>\n",
       "</div>"
      ],
      "text/plain": [
       "   Pregnancies  Glucose  BloodPressure  SkinThickness  Insulin   BMI  \\\n",
       "0            6      148             72             35        0  33.6   \n",
       "1            1       85             66             29        0  26.6   \n",
       "2            8      183             64              0        0  23.3   \n",
       "3            1       89             66             23       94  28.1   \n",
       "4            0      137             40             35      168  43.1   \n",
       "5            5      116             74              0        0  25.6   \n",
       "6            3       78             50             32       88  31.0   \n",
       "7           10      115              0              0        0  35.3   \n",
       "8            2      197             70             45      543  30.5   \n",
       "\n",
       "   DiabetesPedigreeFunction  Age  Outcome  \n",
       "0                     0.627   50        1  \n",
       "1                     0.351   31        0  \n",
       "2                     0.672   32        1  \n",
       "3                     0.167   21        0  \n",
       "4                     2.288   33        1  \n",
       "5                     0.201   30        0  \n",
       "6                     0.248   26        1  \n",
       "7                     0.134   29        0  \n",
       "8                     0.158   53        1  "
      ]
     },
     "execution_count": 2,
     "metadata": {},
     "output_type": "execute_result"
    }
   ],
   "source": [
    "df = pd.read_csv(\"./Documents/diabetes.csv\")\n",
    "df.head(9)"
   ]
  },
  {
   "cell_type": "code",
   "execution_count": 3,
   "id": "0f48b0e7",
   "metadata": {},
   "outputs": [],
   "source": [
    "df['Glucose']=df['Glucose'].replace(0,df['Glucose'].mean())\n",
    "df['BloodPressure']=df['BloodPressure'].replace(0,df['BloodPressure'].mean())\n",
    "df['SkinThickness']=df['SkinThickness'].replace(0,df['SkinThickness'].median())\n",
    "df['Insulin']=df['Insulin'].replace(0,df['Insulin'].median())\n",
    "df['BMI']=df['BMI'].replace(0,df['BMI'].median())"
   ]
  },
  {
   "cell_type": "code",
   "execution_count": 4,
   "id": "c47278e0",
   "metadata": {},
   "outputs": [
    {
     "data": {
      "text/plain": [
       "Index(['Pregnancies', 'Glucose', 'Insulin', 'BMI', 'Age', 'Outcome'], dtype='object')"
      ]
     },
     "execution_count": 4,
     "metadata": {},
     "output_type": "execute_result"
    }
   ],
   "source": [
    "data_sf = df.drop(['DiabetesPedigreeFunction','BloodPressure','SkinThickness'], axis = 1)\n",
    "data_sf.columns"
   ]
  },
  {
   "cell_type": "code",
   "execution_count": 5,
   "id": "5bc46d8c",
   "metadata": {},
   "outputs": [
    {
     "data": {
      "text/plain": [
       "<Axes: xlabel='Insulin'>"
      ]
     },
     "execution_count": 5,
     "metadata": {},
     "output_type": "execute_result"
    },
    {
     "data": {
      "image/png": "[encoded data removed]",
      "text/plain": [
       "<Figure size 1600x1200 with 5 Axes>"
      ]
     },
     "metadata": {},
     "output_type": "display_data"
    }
   ],
   "source": [
    "import seaborn as sns\n",
    "plt.figure(figsize=(16,12))\n",
    "sns.set_style(style='whitegrid')\n",
    "plt.subplot(3,3,1)\n",
    "sns.boxplot(x=data_sf['Glucose'],data=data_sf)\n",
    "plt.subplot(3,3,2)\n",
    "sns.boxplot(x=data_sf['BMI'],data=data_sf)\n",
    "plt.subplot(3,3,3)\n",
    "sns.boxplot(x=data_sf['Pregnancies'],data=data_sf)\n",
    "plt.subplot(3,3,4)\n",
    "sns.boxplot(x=data_sf['Age'],data=data_sf)\n",
    "plt.subplot(3,3,5)\n",
    "sns.boxplot(x=data_sf['Insulin'],data=data_sf)"
   ]
  },
  {
   "cell_type": "code",
   "execution_count": 6,
   "id": "d103672a",
   "metadata": {},
   "outputs": [
    {
     "name": "stderr",
     "output_type": "stream",
     "text": [
      "C:\\Users\\aida-lab\\AppData\\Local\\anaconda3\\Lib\\site-packages\\sklearn\\preprocessing\\_data.py:2667: UserWarning: n_quantiles (1000) is greater than the total number of samples (768). n_quantiles is set to n_samples.\n",
      "  warnings.warn(\n",
      "C:\\Users\\aida-lab\\AppData\\Local\\anaconda3\\Lib\\site-packages\\sklearn\\base.py:464: UserWarning: X does not have valid feature names, but QuantileTransformer was fitted with feature names\n",
      "  warnings.warn(\n"
     ]
    }
   ],
   "source": [
    "from sklearn.preprocessing import QuantileTransformer\n",
    "\n",
    "x=data_sf\n",
    "\n",
    "quantile  = QuantileTransformer()\n",
    "X = quantile.fit_transform(x)\n",
    "\n",
    "df1=quantile.transform(X)\n",
    "df1=pd.DataFrame(X)\n",
    "df1.columns =['Pregnancies', 'Glucose', 'Insulin', 'BMI', 'Age', 'Outcome']"
   ]
  },
  {
   "cell_type": "code",
   "execution_count": 7,
   "id": "c5aff27f",
   "metadata": {},
   "outputs": [
    {
     "data": {
      "text/plain": [
       "<Axes: xlabel='Insulin'>"
      ]
     },
     "execution_count": 7,
     "metadata": {},
     "output_type": "execute_result"
    },
    {
     "data": {
      "image/png": "[encoded data removed]",
      "text/plain": [
       "<Figure size 1600x1200 with 5 Axes>"
      ]
     },
     "metadata": {},
     "output_type": "display_data"
    }
   ],
   "source": [
    "plt.figure(figsize=(16,12))\n",
    "sns.set_style(style='whitegrid')\n",
    "plt.subplot(3,3,1)\n",
    "sns.boxplot(x=df1['Glucose'],data=df1)\n",
    "\n",
    "plt.subplot(3,3,2)\n",
    "sns.boxplot(x=df1['BMI'],data=df1)\n",
    "plt.subplot(3,3,3)\n",
    "sns.boxplot(x=df1['Pregnancies'],data=df1)\n",
    "plt.subplot(3,3,4)\n",
    "sns.boxplot(x=df1['Age'],data=df1)\n",
    "plt.subplot(3,3,5)\n",
    "sns.boxplot(x=df1['Insulin'],data=df1)"
   ]
  },
  {
   "cell_type": "markdown",
   "id": "94bbe6ec",
   "metadata": {},
   "source": [
    "### Phase 1"
   ]
  },
  {
   "cell_type": "code",
   "execution_count": 8,
   "id": "74aa2940",
   "metadata": {},
   "outputs": [
    {
     "data": {
      "text/plain": [
       "(384, 6)"
      ]
     },
     "execution_count": 8,
     "metadata": {},
     "output_type": "execute_result"
    }
   ],
   "source": [
    "df2 = df1.sample(frac=.50)\n",
    "df2.shape"
   ]
  },
  {
   "cell_type": "code",
   "execution_count": 9,
   "id": "ff0a9a2f",
   "metadata": {},
   "outputs": [
    {
     "data": {
      "text/html": [
       "<div>\n",
       "<style scoped>\n",
       "    .dataframe tbody tr th:only-of-type {\n",
       "        vertical-align: middle;\n",
       "    }\n",
       "\n",
       "    .dataframe tbody tr th {\n",
       "        vertical-align: top;\n",
       "    }\n",
       "\n",
       "    .dataframe thead th {\n",
       "        text-align: right;\n",
       "    }\n",
       "</style>\n",
       "<table border=\"1\" class=\"dataframe\">\n",
       "  <thead>\n",
       "    <tr style=\"text-align: right;\">\n",
       "      <th></th>\n",
       "      <th>Pregnancies</th>\n",
       "      <th>Glucose</th>\n",
       "      <th>Insulin</th>\n",
       "      <th>BMI</th>\n",
       "      <th>Age</th>\n",
       "      <th>Outcome</th>\n",
       "    </tr>\n",
       "  </thead>\n",
       "  <tbody>\n",
       "    <tr>\n",
       "      <th>132</th>\n",
       "      <td>0.503259</td>\n",
       "      <td>0.909387</td>\n",
       "      <td>0.910691</td>\n",
       "      <td>0.652542</td>\n",
       "      <td>0.529335</td>\n",
       "      <td>1.0</td>\n",
       "    </tr>\n",
       "    <tr>\n",
       "      <th>456</th>\n",
       "      <td>0.232725</td>\n",
       "      <td>0.703390</td>\n",
       "      <td>0.256193</td>\n",
       "      <td>0.216428</td>\n",
       "      <td>0.971317</td>\n",
       "      <td>0.0</td>\n",
       "    </tr>\n",
       "    <tr>\n",
       "      <th>243</th>\n",
       "      <td>0.747718</td>\n",
       "      <td>0.517601</td>\n",
       "      <td>0.846154</td>\n",
       "      <td>0.228162</td>\n",
       "      <td>0.606258</td>\n",
       "      <td>1.0</td>\n",
       "    </tr>\n",
       "    <tr>\n",
       "      <th>368</th>\n",
       "      <td>0.503259</td>\n",
       "      <td>0.058018</td>\n",
       "      <td>0.582790</td>\n",
       "      <td>0.248370</td>\n",
       "      <td>0.128422</td>\n",
       "      <td>0.0</td>\n",
       "    </tr>\n",
       "    <tr>\n",
       "      <th>91</th>\n",
       "      <td>0.596480</td>\n",
       "      <td>0.575619</td>\n",
       "      <td>0.846154</td>\n",
       "      <td>0.487614</td>\n",
       "      <td>0.626467</td>\n",
       "      <td>0.0</td>\n",
       "    </tr>\n",
       "    <tr>\n",
       "      <th>...</th>\n",
       "      <td>...</td>\n",
       "      <td>...</td>\n",
       "      <td>...</td>\n",
       "      <td>...</td>\n",
       "      <td>...</td>\n",
       "      <td>...</td>\n",
       "    </tr>\n",
       "    <tr>\n",
       "      <th>662</th>\n",
       "      <td>0.863755</td>\n",
       "      <td>0.899609</td>\n",
       "      <td>0.917210</td>\n",
       "      <td>0.788787</td>\n",
       "      <td>0.808344</td>\n",
       "      <td>1.0</td>\n",
       "    </tr>\n",
       "    <tr>\n",
       "      <th>444</th>\n",
       "      <td>0.596480</td>\n",
       "      <td>0.495437</td>\n",
       "      <td>0.256193</td>\n",
       "      <td>0.355280</td>\n",
       "      <td>0.529335</td>\n",
       "      <td>1.0</td>\n",
       "    </tr>\n",
       "    <tr>\n",
       "      <th>542</th>\n",
       "      <td>0.940678</td>\n",
       "      <td>0.135593</td>\n",
       "      <td>0.256193</td>\n",
       "      <td>0.673403</td>\n",
       "      <td>0.937419</td>\n",
       "      <td>1.0</td>\n",
       "    </tr>\n",
       "    <tr>\n",
       "      <th>500</th>\n",
       "      <td>0.387223</td>\n",
       "      <td>0.495437</td>\n",
       "      <td>0.597132</td>\n",
       "      <td>0.153194</td>\n",
       "      <td>0.000000</td>\n",
       "      <td>0.0</td>\n",
       "    </tr>\n",
       "    <tr>\n",
       "      <th>76</th>\n",
       "      <td>0.809648</td>\n",
       "      <td>0.006519</td>\n",
       "      <td>0.256193</td>\n",
       "      <td>0.530639</td>\n",
       "      <td>0.762060</td>\n",
       "      <td>0.0</td>\n",
       "    </tr>\n",
       "  </tbody>\n",
       "</table>\n",
       "<p>384 rows × 6 columns</p>\n",
       "</div>"
      ],
      "text/plain": [
       "     Pregnancies   Glucose   Insulin       BMI       Age  Outcome\n",
       "132     0.503259  0.909387  0.910691  0.652542  0.529335      1.0\n",
       "456     0.232725  0.703390  0.256193  0.216428  0.971317      0.0\n",
       "243     0.747718  0.517601  0.846154  0.228162  0.606258      1.0\n",
       "368     0.503259  0.058018  0.582790  0.248370  0.128422      0.0\n",
       "91      0.596480  0.575619  0.846154  0.487614  0.626467      0.0\n",
       "..           ...       ...       ...       ...       ...      ...\n",
       "662     0.863755  0.899609  0.917210  0.788787  0.808344      1.0\n",
       "444     0.596480  0.495437  0.256193  0.355280  0.529335      1.0\n",
       "542     0.940678  0.135593  0.256193  0.673403  0.937419      1.0\n",
       "500     0.387223  0.495437  0.597132  0.153194  0.000000      0.0\n",
       "76      0.809648  0.006519  0.256193  0.530639  0.762060      0.0\n",
       "\n",
       "[384 rows x 6 columns]"
      ]
     },
     "execution_count": 9,
     "metadata": {},
     "output_type": "execute_result"
    }
   ],
   "source": [
    "df2"
   ]
  },
  {
   "cell_type": "code",
   "execution_count": 10,
   "id": "44f045c4",
   "metadata": {},
   "outputs": [],
   "source": [
    "X = df2.drop(['Outcome'],axis = 1)\n",
    "y = df2['Outcome']"
   ]
  },
  {
   "cell_type": "code",
   "execution_count": 11,
   "id": "27035e57",
   "metadata": {},
   "outputs": [
    {
     "data": {
      "text/html": [
       "<div>\n",
       "<style scoped>\n",
       "    .dataframe tbody tr th:only-of-type {\n",
       "        vertical-align: middle;\n",
       "    }\n",
       "\n",
       "    .dataframe tbody tr th {\n",
       "        vertical-align: top;\n",
       "    }\n",
       "\n",
       "    .dataframe thead th {\n",
       "        text-align: right;\n",
       "    }\n",
       "</style>\n",
       "<table border=\"1\" class=\"dataframe\">\n",
       "  <thead>\n",
       "    <tr style=\"text-align: right;\">\n",
       "      <th></th>\n",
       "      <th>Pregnancies</th>\n",
       "      <th>Glucose</th>\n",
       "      <th>Insulin</th>\n",
       "      <th>BMI</th>\n",
       "      <th>Age</th>\n",
       "    </tr>\n",
       "  </thead>\n",
       "  <tbody>\n",
       "    <tr>\n",
       "      <th>132</th>\n",
       "      <td>0.503259</td>\n",
       "      <td>0.909387</td>\n",
       "      <td>0.910691</td>\n",
       "      <td>0.652542</td>\n",
       "      <td>0.529335</td>\n",
       "    </tr>\n",
       "    <tr>\n",
       "      <th>456</th>\n",
       "      <td>0.232725</td>\n",
       "      <td>0.703390</td>\n",
       "      <td>0.256193</td>\n",
       "      <td>0.216428</td>\n",
       "      <td>0.971317</td>\n",
       "    </tr>\n",
       "    <tr>\n",
       "      <th>243</th>\n",
       "      <td>0.747718</td>\n",
       "      <td>0.517601</td>\n",
       "      <td>0.846154</td>\n",
       "      <td>0.228162</td>\n",
       "      <td>0.606258</td>\n",
       "    </tr>\n",
       "    <tr>\n",
       "      <th>368</th>\n",
       "      <td>0.503259</td>\n",
       "      <td>0.058018</td>\n",
       "      <td>0.582790</td>\n",
       "      <td>0.248370</td>\n",
       "      <td>0.128422</td>\n",
       "    </tr>\n",
       "    <tr>\n",
       "      <th>91</th>\n",
       "      <td>0.596480</td>\n",
       "      <td>0.575619</td>\n",
       "      <td>0.846154</td>\n",
       "      <td>0.487614</td>\n",
       "      <td>0.626467</td>\n",
       "    </tr>\n",
       "  </tbody>\n",
       "</table>\n",
       "</div>"
      ],
      "text/plain": [
       "     Pregnancies   Glucose   Insulin       BMI       Age\n",
       "132     0.503259  0.909387  0.910691  0.652542  0.529335\n",
       "456     0.232725  0.703390  0.256193  0.216428  0.971317\n",
       "243     0.747718  0.517601  0.846154  0.228162  0.606258\n",
       "368     0.503259  0.058018  0.582790  0.248370  0.128422\n",
       "91      0.596480  0.575619  0.846154  0.487614  0.626467"
      ]
     },
     "execution_count": 11,
     "metadata": {},
     "output_type": "execute_result"
    }
   ],
   "source": [
    "X.head()"
   ]
  },
  {
   "cell_type": "code",
   "execution_count": 12,
   "id": "a92ebe40",
   "metadata": {},
   "outputs": [
    {
     "data": {
      "text/plain": [
       "132    1.0\n",
       "456    0.0\n",
       "243    1.0\n",
       "368    0.0\n",
       "91     0.0\n",
       "Name: Outcome, dtype: float64"
      ]
     },
     "execution_count": 12,
     "metadata": {},
     "output_type": "execute_result"
    }
   ],
   "source": [
    "y.head()"
   ]
  },
  {
   "cell_type": "code",
   "execution_count": 13,
   "id": "7d157073",
   "metadata": {},
   "outputs": [],
   "source": [
    "from sklearn.model_selection import train_test_split\n",
    "X_train, X_test, y_train, y_test = train_test_split(X, y, test_size=0.2, random_state=42)\n",
    "\n",
    "from sklearn.preprocessing import StandardScaler\n",
    "scaler = StandardScaler()\n",
    "X_train = scaler.fit_transform(X_train)\n",
    "X_test = scaler.transform(X_test)"
   ]
  },
  {
   "cell_type": "code",
   "execution_count": 14,
   "id": "c1ed8ff4",
   "metadata": {},
   "outputs": [
    {
     "name": "stdout",
     "output_type": "stream",
     "text": [
      "Accuracy 1: 0.7662337662337663\n"
     ]
    }
   ],
   "source": [
    "from sklearn.neighbors import KNeighborsClassifier \n",
    "\n",
    "KNN = KNeighborsClassifier\n",
    "knn = KNN(n_neighbors=10)\n",
    "knn.fit(X_train, y_train)\n",
    "knn_y_pred = knn.predict(X_test)\n",
    "\n",
    "from sklearn import metrics\n",
    "KNN_accuracy = metrics.accuracy_score(y_test, knn_y_pred)\n",
    "\n",
    "print(\"Accuracy 1:\", KNN_accuracy)"
   ]
  },
  {
   "cell_type": "markdown",
   "id": "83f9a1c8",
   "metadata": {},
   "source": [
    "### Phase 2"
   ]
  },
  {
   "cell_type": "code",
   "execution_count": 15,
   "id": "b4253c7d",
   "metadata": {},
   "outputs": [
    {
     "data": {
      "text/plain": [
       "(384, 6)"
      ]
     },
     "execution_count": 15,
     "metadata": {},
     "output_type": "execute_result"
    }
   ],
   "source": [
    "df3 = df1.sample(frac=.50)\n",
    "df3.shape"
   ]
  },
  {
   "cell_type": "code",
   "execution_count": 24,
   "id": "04c41569",
   "metadata": {},
   "outputs": [
    {
     "data": {
      "text/html": [
       "<div>\n",
       "<style scoped>\n",
       "    .dataframe tbody tr th:only-of-type {\n",
       "        vertical-align: middle;\n",
       "    }\n",
       "\n",
       "    .dataframe tbody tr th {\n",
       "        vertical-align: top;\n",
       "    }\n",
       "\n",
       "    .dataframe thead th {\n",
       "        text-align: right;\n",
       "    }\n",
       "</style>\n",
       "<table border=\"1\" class=\"dataframe\">\n",
       "  <thead>\n",
       "    <tr style=\"text-align: right;\">\n",
       "      <th></th>\n",
       "      <th>Pregnancies</th>\n",
       "      <th>Glucose</th>\n",
       "      <th>Insulin</th>\n",
       "      <th>BMI</th>\n",
       "      <th>Age</th>\n",
       "      <th>Outcome</th>\n",
       "    </tr>\n",
       "  </thead>\n",
       "  <tbody>\n",
       "    <tr>\n",
       "      <th>214</th>\n",
       "      <td>0.907432</td>\n",
       "      <td>0.436767</td>\n",
       "      <td>0.842243</td>\n",
       "      <td>0.630378</td>\n",
       "      <td>0.659713</td>\n",
       "      <td>1.0</td>\n",
       "    </tr>\n",
       "    <tr>\n",
       "      <th>348</th>\n",
       "      <td>0.503259</td>\n",
       "      <td>0.238592</td>\n",
       "      <td>0.603651</td>\n",
       "      <td>0.037810</td>\n",
       "      <td>0.368970</td>\n",
       "      <td>0.0</td>\n",
       "    </tr>\n",
       "    <tr>\n",
       "      <th>506</th>\n",
       "      <td>0.000000</td>\n",
       "      <td>0.943937</td>\n",
       "      <td>0.649935</td>\n",
       "      <td>0.746415</td>\n",
       "      <td>0.642112</td>\n",
       "      <td>1.0</td>\n",
       "    </tr>\n",
       "    <tr>\n",
       "      <th>519</th>\n",
       "      <td>0.747718</td>\n",
       "      <td>0.655150</td>\n",
       "      <td>0.962190</td>\n",
       "      <td>0.013038</td>\n",
       "      <td>0.962190</td>\n",
       "      <td>0.0</td>\n",
       "    </tr>\n",
       "    <tr>\n",
       "      <th>228</th>\n",
       "      <td>0.596480</td>\n",
       "      <td>0.996089</td>\n",
       "      <td>0.998696</td>\n",
       "      <td>0.756193</td>\n",
       "      <td>0.558670</td>\n",
       "      <td>0.0</td>\n",
       "    </tr>\n",
       "    <tr>\n",
       "      <th>...</th>\n",
       "      <td>...</td>\n",
       "      <td>...</td>\n",
       "      <td>...</td>\n",
       "      <td>...</td>\n",
       "      <td>...</td>\n",
       "      <td>...</td>\n",
       "    </tr>\n",
       "    <tr>\n",
       "      <th>185</th>\n",
       "      <td>0.809648</td>\n",
       "      <td>0.985007</td>\n",
       "      <td>0.256193</td>\n",
       "      <td>0.726206</td>\n",
       "      <td>0.762060</td>\n",
       "      <td>1.0</td>\n",
       "    </tr>\n",
       "    <tr>\n",
       "      <th>81</th>\n",
       "      <td>0.387223</td>\n",
       "      <td>0.026728</td>\n",
       "      <td>0.256193</td>\n",
       "      <td>0.487614</td>\n",
       "      <td>0.128422</td>\n",
       "      <td>0.0</td>\n",
       "    </tr>\n",
       "    <tr>\n",
       "      <th>744</th>\n",
       "      <td>0.989570</td>\n",
       "      <td>0.833116</td>\n",
       "      <td>0.781617</td>\n",
       "      <td>0.885267</td>\n",
       "      <td>0.722947</td>\n",
       "      <td>0.0</td>\n",
       "    </tr>\n",
       "    <tr>\n",
       "      <th>120</th>\n",
       "      <td>0.000000</td>\n",
       "      <td>0.876793</td>\n",
       "      <td>0.679922</td>\n",
       "      <td>0.994785</td>\n",
       "      <td>0.316167</td>\n",
       "      <td>1.0</td>\n",
       "    </tr>\n",
       "    <tr>\n",
       "      <th>560</th>\n",
       "      <td>0.747718</td>\n",
       "      <td>0.604302</td>\n",
       "      <td>0.256193</td>\n",
       "      <td>0.606258</td>\n",
       "      <td>0.926336</td>\n",
       "      <td>1.0</td>\n",
       "    </tr>\n",
       "  </tbody>\n",
       "</table>\n",
       "<p>384 rows × 6 columns</p>\n",
       "</div>"
      ],
      "text/plain": [
       "     Pregnancies   Glucose   Insulin       BMI       Age  Outcome\n",
       "214     0.907432  0.436767  0.842243  0.630378  0.659713      1.0\n",
       "348     0.503259  0.238592  0.603651  0.037810  0.368970      0.0\n",
       "506     0.000000  0.943937  0.649935  0.746415  0.642112      1.0\n",
       "519     0.747718  0.655150  0.962190  0.013038  0.962190      0.0\n",
       "228     0.596480  0.996089  0.998696  0.756193  0.558670      0.0\n",
       "..           ...       ...       ...       ...       ...      ...\n",
       "185     0.809648  0.985007  0.256193  0.726206  0.762060      1.0\n",
       "81      0.387223  0.026728  0.256193  0.487614  0.128422      0.0\n",
       "744     0.989570  0.833116  0.781617  0.885267  0.722947      0.0\n",
       "120     0.000000  0.876793  0.679922  0.994785  0.316167      1.0\n",
       "560     0.747718  0.604302  0.256193  0.606258  0.926336      1.0\n",
       "\n",
       "[384 rows x 6 columns]"
      ]
     },
     "execution_count": 24,
     "metadata": {},
     "output_type": "execute_result"
    }
   ],
   "source": [
    "df3"
   ]
  },
  {
   "cell_type": "code",
   "execution_count": 16,
   "id": "621fb753",
   "metadata": {},
   "outputs": [],
   "source": [
    "X2 = df3.drop(['Outcome'],axis = 1)\n",
    "y2 = df3['Outcome']"
   ]
  },
  {
   "cell_type": "code",
   "execution_count": 17,
   "id": "0a3ad840",
   "metadata": {},
   "outputs": [],
   "source": [
    "from sklearn.model_selection import train_test_split\n",
    "X_train, X_test, y_train, y_test = train_test_split(X2, y2, test_size=0.2, random_state=42)\n",
    "\n",
    "from sklearn.preprocessing import StandardScaler\n",
    "scaler = StandardScaler()\n",
    "X_train = scaler.fit_transform(X_train)\n",
    "X_test = scaler.transform(X_test)"
   ]
  },
  {
   "cell_type": "code",
   "execution_count": 18,
   "id": "b528fa77",
   "metadata": {},
   "outputs": [
    {
     "name": "stdout",
     "output_type": "stream",
     "text": [
      "Accuracy 2: 0.7142857142857143\n"
     ]
    }
   ],
   "source": [
    "from sklearn.neighbors import KNeighborsClassifier \n",
    "\n",
    "KNN = KNeighborsClassifier\n",
    "knn = KNN(n_neighbors=10)\n",
    "knn.fit(X_train, y_train)\n",
    "knn_y_pred = knn.predict(X_test)\n",
    "\n",
    "from sklearn import metrics\n",
    "KNN_accuracy = metrics.accuracy_score(y_test, knn_y_pred)\n",
    "\n",
    "print(\"Accuracy 2:\", KNN_accuracy)"
   ]
  },
  {
   "cell_type": "markdown",
   "id": "6b891a23",
   "metadata": {},
   "source": [
    "### Phase 3"
   ]
  },
  {
   "cell_type": "code",
   "execution_count": 19,
   "id": "381bc46c",
   "metadata": {},
   "outputs": [
    {
     "data": {
      "text/plain": [
       "(384, 6)"
      ]
     },
     "execution_count": 19,
     "metadata": {},
     "output_type": "execute_result"
    }
   ],
   "source": [
    "df4 = df1.sample(frac=.50)\n",
    "df4.shape"
   ]
  },
  {
   "cell_type": "code",
   "execution_count": 23,
   "id": "06abd65e",
   "metadata": {},
   "outputs": [
    {
     "data": {
      "text/html": [
       "<div>\n",
       "<style scoped>\n",
       "    .dataframe tbody tr th:only-of-type {\n",
       "        vertical-align: middle;\n",
       "    }\n",
       "\n",
       "    .dataframe tbody tr th {\n",
       "        vertical-align: top;\n",
       "    }\n",
       "\n",
       "    .dataframe thead th {\n",
       "        text-align: right;\n",
       "    }\n",
       "</style>\n",
       "<table border=\"1\" class=\"dataframe\">\n",
       "  <thead>\n",
       "    <tr style=\"text-align: right;\">\n",
       "      <th></th>\n",
       "      <th>Pregnancies</th>\n",
       "      <th>Glucose</th>\n",
       "      <th>Insulin</th>\n",
       "      <th>BMI</th>\n",
       "      <th>Age</th>\n",
       "      <th>Outcome</th>\n",
       "    </tr>\n",
       "  </thead>\n",
       "  <tbody>\n",
       "    <tr>\n",
       "      <th>657</th>\n",
       "      <td>0.232725</td>\n",
       "      <td>0.532595</td>\n",
       "      <td>0.887223</td>\n",
       "      <td>0.835724</td>\n",
       "      <td>0.762060</td>\n",
       "      <td>0.0</td>\n",
       "    </tr>\n",
       "    <tr>\n",
       "      <th>27</th>\n",
       "      <td>0.232725</td>\n",
       "      <td>0.217731</td>\n",
       "      <td>0.781617</td>\n",
       "      <td>0.074316</td>\n",
       "      <td>0.128422</td>\n",
       "      <td>0.0</td>\n",
       "    </tr>\n",
       "    <tr>\n",
       "      <th>363</th>\n",
       "      <td>0.596480</td>\n",
       "      <td>0.792699</td>\n",
       "      <td>0.256193</td>\n",
       "      <td>0.824641</td>\n",
       "      <td>0.990874</td>\n",
       "      <td>1.0</td>\n",
       "    </tr>\n",
       "    <tr>\n",
       "      <th>263</th>\n",
       "      <td>0.503259</td>\n",
       "      <td>0.760104</td>\n",
       "      <td>0.256193</td>\n",
       "      <td>0.516297</td>\n",
       "      <td>0.976532</td>\n",
       "      <td>0.0</td>\n",
       "    </tr>\n",
       "    <tr>\n",
       "      <th>429</th>\n",
       "      <td>0.232725</td>\n",
       "      <td>0.192960</td>\n",
       "      <td>0.853977</td>\n",
       "      <td>0.680574</td>\n",
       "      <td>0.808344</td>\n",
       "      <td>1.0</td>\n",
       "    </tr>\n",
       "    <tr>\n",
       "      <th>...</th>\n",
       "      <td>...</td>\n",
       "      <td>...</td>\n",
       "      <td>...</td>\n",
       "      <td>...</td>\n",
       "      <td>...</td>\n",
       "      <td>...</td>\n",
       "    </tr>\n",
       "    <tr>\n",
       "      <th>617</th>\n",
       "      <td>0.387223</td>\n",
       "      <td>0.011734</td>\n",
       "      <td>0.001304</td>\n",
       "      <td>0.018253</td>\n",
       "      <td>0.200130</td>\n",
       "      <td>0.0</td>\n",
       "    </tr>\n",
       "    <tr>\n",
       "      <th>137</th>\n",
       "      <td>0.000000</td>\n",
       "      <td>0.170795</td>\n",
       "      <td>0.656454</td>\n",
       "      <td>0.309648</td>\n",
       "      <td>0.128422</td>\n",
       "      <td>0.0</td>\n",
       "    </tr>\n",
       "    <tr>\n",
       "      <th>246</th>\n",
       "      <td>0.940678</td>\n",
       "      <td>0.561930</td>\n",
       "      <td>0.256193</td>\n",
       "      <td>0.443937</td>\n",
       "      <td>0.762060</td>\n",
       "      <td>0.0</td>\n",
       "    </tr>\n",
       "    <tr>\n",
       "      <th>418</th>\n",
       "      <td>0.232725</td>\n",
       "      <td>0.069752</td>\n",
       "      <td>0.256193</td>\n",
       "      <td>0.000000</td>\n",
       "      <td>0.411995</td>\n",
       "      <td>0.0</td>\n",
       "    </tr>\n",
       "    <tr>\n",
       "      <th>107</th>\n",
       "      <td>0.596480</td>\n",
       "      <td>0.775750</td>\n",
       "      <td>0.781617</td>\n",
       "      <td>0.342243</td>\n",
       "      <td>0.681877</td>\n",
       "      <td>0.0</td>\n",
       "    </tr>\n",
       "  </tbody>\n",
       "</table>\n",
       "<p>384 rows × 6 columns</p>\n",
       "</div>"
      ],
      "text/plain": [
       "     Pregnancies   Glucose   Insulin       BMI       Age  Outcome\n",
       "657     0.232725  0.532595  0.887223  0.835724  0.762060      0.0\n",
       "27      0.232725  0.217731  0.781617  0.074316  0.128422      0.0\n",
       "363     0.596480  0.792699  0.256193  0.824641  0.990874      1.0\n",
       "263     0.503259  0.760104  0.256193  0.516297  0.976532      0.0\n",
       "429     0.232725  0.192960  0.853977  0.680574  0.808344      1.0\n",
       "..           ...       ...       ...       ...       ...      ...\n",
       "617     0.387223  0.011734  0.001304  0.018253  0.200130      0.0\n",
       "137     0.000000  0.170795  0.656454  0.309648  0.128422      0.0\n",
       "246     0.940678  0.561930  0.256193  0.443937  0.762060      0.0\n",
       "418     0.232725  0.069752  0.256193  0.000000  0.411995      0.0\n",
       "107     0.596480  0.775750  0.781617  0.342243  0.681877      0.0\n",
       "\n",
       "[384 rows x 6 columns]"
      ]
     },
     "execution_count": 23,
     "metadata": {},
     "output_type": "execute_result"
    }
   ],
   "source": [
    "df4"
   ]
  },
  {
   "cell_type": "code",
   "execution_count": 20,
   "id": "5151a8c2",
   "metadata": {},
   "outputs": [],
   "source": [
    "X3 = df4.drop(['Outcome'],axis = 1)\n",
    "y3 = df4['Outcome']"
   ]
  },
  {
   "cell_type": "code",
   "execution_count": 21,
   "id": "2fee1f55",
   "metadata": {},
   "outputs": [],
   "source": [
    "from sklearn.model_selection import train_test_split\n",
    "X_train, X_test, y_train, y_test = train_test_split(X3, y3, test_size=0.2, random_state=42)\n",
    "\n",
    "from sklearn.preprocessing import StandardScaler\n",
    "scaler = StandardScaler()\n",
    "X_train = scaler.fit_transform(X_train)\n",
    "X_test = scaler.transform(X_test)"
   ]
  },
  {
   "cell_type": "code",
   "execution_count": 22,
   "id": "7b22596c",
   "metadata": {},
   "outputs": [
    {
     "name": "stdout",
     "output_type": "stream",
     "text": [
      "Accuracy 2: 0.7662337662337663\n"
     ]
    }
   ],
   "source": [
    "from sklearn.neighbors import KNeighborsClassifier \n",
    "\n",
    "KNN = KNeighborsClassifier\n",
    "knn = KNN(n_neighbors=10)\n",
    "knn.fit(X_train, y_train)\n",
    "knn_y_pred = knn.predict(X_test)\n",
    "\n",
    "from sklearn import metrics\n",
    "KNN_accuracy = metrics.accuracy_score(y_test, knn_y_pred)\n",
    "\n",
    "print(\"Accuracy 2:\", KNN_accuracy)"
   ]
  }
 ],
 "metadata": {
  "kernelspec": {
   "display_name": "Python 3 (ipykernel)",
   "language": "python",
   "name": "python3"
  },
  "language_info": {
   "codemirror_mode": {
    "name": "ipython",
    "version": 3
   },
   "file_extension": ".py",
   "mimetype": "text/x-python",
   "name": "python",
   "nbconvert_exporter": "python",
   "pygments_lexer": "ipython3",
   "version": "3.11.5"
  }
 },
 "nbformat": 4,
 "nbformat_minor": 5
}
